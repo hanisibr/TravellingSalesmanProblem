{
 "cells": [
  {
   "cell_type": "markdown",
   "id": "de77380f",
   "metadata": {},
   "source": [
    "# Step 2"
   ]
  },
  {
   "cell_type": "code",
   "execution_count": 1,
   "id": "bccd03b6",
   "metadata": {},
   "outputs": [],
   "source": [
    "# Import libraries\n",
    "\n",
    "import pandas as pd\n",
    "import matplotlib as mpl\n",
    "import matplotlib.pyplot as plt\n",
    "import math\n",
    "import random\n",
    "import pulp"
   ]
  },
  {
   "cell_type": "code",
   "execution_count": 2,
   "id": "d1dd623c",
   "metadata": {},
   "outputs": [],
   "source": [
    "# Generating Points and Distances\n",
    "\n",
    "n=5\n",
    "random.seed(20246862)\n",
    "\n",
    "def dist(p1, p2):\n",
    "    (x1, y1) = p1\n",
    "    (x2, y2) = p2\n",
    "    return int(math.sqrt((x1-x2)**2+(y1-y2)**2)*700)"
   ]
  },
  {
   "cell_type": "code",
   "execution_count": 3,
   "id": "8a2b468d",
   "metadata": {},
   "outputs": [],
   "source": [
    "def x_of(p):\n",
    "    (x,_)=p\n",
    "    return x\n",
    "def y_of(p):\n",
    "    (_, y)=p\n",
    "    return y"
   ]
  },
  {
   "cell_type": "code",
   "execution_count": 4,
   "id": "29daa80d",
   "metadata": {},
   "outputs": [],
   "source": [
    "P = []\n",
    "eps = 0.05\n",
    "while len(P)<n:\n",
    "    i=len(P)\n",
    "    x0=random.random()\n",
    "    if x0<eps or x0>1-eps:\n",
    "        continue\n",
    "    y0=random.random()\n",
    "    if y0<eps or y0>1-eps:\n",
    "        continue\n",
    "    P.append((x0,y0))\n",
    "    for j in range(0,i):\n",
    "        if dist(P[i],P[j])<50:\n",
    "            P=P[:-1]\n",
    "            break\n",
    "town = [ chr(ord('A')+i) for i in range(0,n) ]"
   ]
  },
  {
   "cell_type": "code",
   "execution_count": 5,
   "id": "2e6c5a4d",
   "metadata": {},
   "outputs": [
    {
     "data": {
      "text/plain": [
       "[(0.780677152841719, 0.24768935251489643),\n",
       " (0.6008167803559864, 0.41640173572058525),\n",
       " (0.7024583369166644, 0.828931302861875),\n",
       " (0.8134190736361858, 0.6661570238600951),\n",
       " (0.8909057397782246, 0.22244841870937337)]"
      ]
     },
     "execution_count": 5,
     "metadata": {},
     "output_type": "execute_result"
    }
   ],
   "source": [
    "P"
   ]
  },
  {
   "cell_type": "code",
   "execution_count": 6,
   "id": "c673e35e",
   "metadata": {},
   "outputs": [
    {
     "data": {
      "text/plain": [
       "['A', 'B', 'C', 'D', 'E']"
      ]
     },
     "execution_count": 6,
     "metadata": {},
     "output_type": "execute_result"
    }
   ],
   "source": [
    "town"
   ]
  },
  {
   "cell_type": "code",
   "execution_count": 7,
   "id": "3bd1841c",
   "metadata": {},
   "outputs": [
    {
     "data": {
      "text/plain": [
       "[<matplotlib.lines.Line2D at 0x7f7be0bc65e0>]"
      ]
     },
     "execution_count": 7,
     "metadata": {},
     "output_type": "execute_result"
    },
    {
     "data": {
      "image/png": "[encoded data removed]",
      "text/plain": [
       "<Figure size 640x480 with 1 Axes>"
      ]
     },
     "metadata": {},
     "output_type": "display_data"
    }
   ],
   "source": [
    "plt.xlim(0,1)\n",
    "plt.ylim(0,1)\n",
    "plt.axis('off')\n",
    "plt.plot([ x for (x,_) in P ],[ y for (_,y) in P ], 'ro')"
   ]
  },
  {
   "cell_type": "code",
   "execution_count": 8,
   "id": "1afc6dd1",
   "metadata": {},
   "outputs": [
    {
     "name": "stdout",
     "output_type": "stream",
     "text": [
      "    A   B   C   D   E   \n",
      "A --- 172 410 293  79\n",
      "B 172 --- 297 229 244\n",
      "C 410 297 --- 137 444\n",
      "D 293 229 137 --- 315\n",
      "E  79 244 444 315 ---\n"
     ]
    }
   ],
   "source": [
    "# Table of Distances\n",
    "\n",
    "print(\"    \", end='')\n",
    "for j in range(0, n):\n",
    "    print(f\"{town[j]:4s}\", end='')\n",
    "print()\n",
    "for i in range(0, n):\n",
    "    print(f\"{town[i]:s}\", end='')\n",
    "    for j in range(0, n):\n",
    "        if i==j:\n",
    "            print(\" ---\", end='')\n",
    "        else:\n",
    "            print(f\"{dist(P[i],P[j]):4d}\", end='')\n",
    "    print()"
   ]
  },
  {
   "cell_type": "markdown",
   "id": "7ce73829",
   "metadata": {},
   "source": [
    "# Step 3"
   ]
  },
  {
   "cell_type": "code",
   "execution_count": 9,
   "id": "88cfcfb6",
   "metadata": {},
   "outputs": [],
   "source": [
    "# Creating variables\n",
    "\n",
    "x = pulp.LpVariable.dicts(\"x\", ( range(0,n), range(0,n) ),\n",
    "                          lowBound=0, upBound=1, \n",
    "                          cat=pulp.LpInteger)"
   ]
  },
  {
   "cell_type": "code",
   "execution_count": 10,
   "id": "56d33de7",
   "metadata": {},
   "outputs": [
    {
     "data": {
      "text/plain": [
       "{0: {0: x_0_0, 1: x_0_1, 2: x_0_2, 3: x_0_3, 4: x_0_4},\n",
       " 1: {0: x_1_0, 1: x_1_1, 2: x_1_2, 3: x_1_3, 4: x_1_4},\n",
       " 2: {0: x_2_0, 1: x_2_1, 2: x_2_2, 3: x_2_3, 4: x_2_4},\n",
       " 3: {0: x_3_0, 1: x_3_1, 2: x_3_2, 3: x_3_3, 4: x_3_4},\n",
       " 4: {0: x_4_0, 1: x_4_1, 2: x_4_2, 3: x_4_3, 4: x_4_4}}"
      ]
     },
     "execution_count": 10,
     "metadata": {},
     "output_type": "execute_result"
    }
   ],
   "source": [
    "x"
   ]
  },
  {
   "cell_type": "code",
   "execution_count": 11,
   "id": "2f2d859b",
   "metadata": {},
   "outputs": [],
   "source": [
    "# We need to keep track of the order in the tour to eliminate the possibility of subtours\n",
    "\n",
    "u = pulp.LpVariable.dicts('u', (i for i in range(0,n)), lowBound=0, upBound=n, cat=pulp.LpInteger)"
   ]
  },
  {
   "cell_type": "code",
   "execution_count": 12,
   "id": "0a69c0d0",
   "metadata": {},
   "outputs": [
    {
     "data": {
      "text/plain": [
       "{0: u_0, 1: u_1, 2: u_2, 3: u_3, 4: u_4}"
      ]
     },
     "execution_count": 12,
     "metadata": {},
     "output_type": "execute_result"
    }
   ],
   "source": [
    "u"
   ]
  },
  {
   "cell_type": "code",
   "execution_count": 13,
   "id": "ee4a0e20",
   "metadata": {},
   "outputs": [],
   "source": [
    "# Define Problem\n",
    "\n",
    "problem = pulp.LpProblem(\"TSP\",pulp.LpMinimize)"
   ]
  },
  {
   "cell_type": "code",
   "execution_count": 14,
   "id": "b3b7e8de",
   "metadata": {},
   "outputs": [],
   "source": [
    "problem += pulp.lpSum([ dist(P[i],P[j])*x[i][j] \n",
    "                        for i in range(0,n)\n",
    "                            for j in range(0,n)])"
   ]
  },
  {
   "cell_type": "code",
   "execution_count": 15,
   "id": "37f81e87",
   "metadata": {},
   "outputs": [],
   "source": [
    "# Add Constraints (Encoding)\n",
    "# Every Town is visited only once\n",
    "\n",
    "for j in range(0,n):\n",
    "    problem += pulp.lpSum([ x[i][j] \n",
    "                         for i in range(0,n) \n",
    "                             if i!=j\n",
    "                       ]) ==1\n",
    "constraints = n"
   ]
  },
  {
   "cell_type": "code",
   "execution_count": 16,
   "id": "0f2d2156",
   "metadata": {},
   "outputs": [],
   "source": [
    "# Every town was left only once:\n",
    "\n",
    "for i in range(0,n):\n",
    "    problem += pulp.lpSum([ x[i][j] \n",
    "                         for j in range(0,n)\n",
    "                             if i!=j\n",
    "                       ]) ==1\n",
    "constraints += n"
   ]
  },
  {
   "cell_type": "code",
   "execution_count": 17,
   "id": "7a092972",
   "metadata": {},
   "outputs": [],
   "source": [
    "# Eliminate subtour\n",
    "    \n",
    "for i in range(0,n):\n",
    "    for j in range(0,n):\n",
    "        if i != j and (i != 0 and j != 0):\n",
    "            problem += u[i] - u[j] <= n * (1 - x[i][j]) - 1\n",
    "    constraints += n\n"
   ]
  },
  {
   "cell_type": "code",
   "execution_count": 18,
   "id": "7173411c",
   "metadata": {},
   "outputs": [
    {
     "name": "stdout",
     "output_type": "stream",
     "text": [
      "35 Constraints\n"
     ]
    }
   ],
   "source": [
    "print(f\"{constraints:d} Constraints\")"
   ]
  },
  {
   "cell_type": "code",
   "execution_count": 19,
   "id": "9f840a73",
   "metadata": {},
   "outputs": [
    {
     "data": {
      "text/plain": [
       "TSP:\n",
       "MINIMIZE\n",
       "172*x_0_1 + 410*x_0_2 + 293*x_0_3 + 79*x_0_4 + 172*x_1_0 + 297*x_1_2 + 229*x_1_3 + 244*x_1_4 + 410*x_2_0 + 297*x_2_1 + 137*x_2_3 + 444*x_2_4 + 293*x_3_0 + 229*x_3_1 + 137*x_3_2 + 315*x_3_4 + 79*x_4_0 + 244*x_4_1 + 444*x_4_2 + 315*x_4_3 + 0\n",
       "SUBJECT TO\n",
       "_C1: x_1_0 + x_2_0 + x_3_0 + x_4_0 = 1\n",
       "\n",
       "_C2: x_0_1 + x_2_1 + x_3_1 + x_4_1 = 1\n",
       "\n",
       "_C3: x_0_2 + x_1_2 + x_3_2 + x_4_2 = 1\n",
       "\n",
       "_C4: x_0_3 + x_1_3 + x_2_3 + x_4_3 = 1\n",
       "\n",
       "_C5: x_0_4 + x_1_4 + x_2_4 + x_3_4 = 1\n",
       "\n",
       "_C6: x_0_1 + x_0_2 + x_0_3 + x_0_4 = 1\n",
       "\n",
       "_C7: x_1_0 + x_1_2 + x_1_3 + x_1_4 = 1\n",
       "\n",
       "_C8: x_2_0 + x_2_1 + x_2_3 + x_2_4 = 1\n",
       "\n",
       "_C9: x_3_0 + x_3_1 + x_3_2 + x_3_4 = 1\n",
       "\n",
       "_C10: x_4_0 + x_4_1 + x_4_2 + x_4_3 = 1\n",
       "\n",
       "_C11: u_1 - u_2 + 5 x_1_2 <= 4\n",
       "\n",
       "_C12: u_1 - u_3 + 5 x_1_3 <= 4\n",
       "\n",
       "_C13: u_1 - u_4 + 5 x_1_4 <= 4\n",
       "\n",
       "_C14: - u_1 + u_2 + 5 x_2_1 <= 4\n",
       "\n",
       "_C15: u_2 - u_3 + 5 x_2_3 <= 4\n",
       "\n",
       "_C16: u_2 - u_4 + 5 x_2_4 <= 4\n",
       "\n",
       "_C17: - u_1 + u_3 + 5 x_3_1 <= 4\n",
       "\n",
       "_C18: - u_2 + u_3 + 5 x_3_2 <= 4\n",
       "\n",
       "_C19: u_3 - u_4 + 5 x_3_4 <= 4\n",
       "\n",
       "_C20: - u_1 + u_4 + 5 x_4_1 <= 4\n",
       "\n",
       "_C21: - u_2 + u_4 + 5 x_4_2 <= 4\n",
       "\n",
       "_C22: - u_3 + u_4 + 5 x_4_3 <= 4\n",
       "\n",
       "VARIABLES\n",
       "0 <= u_1 <= 5 Integer\n",
       "0 <= u_2 <= 5 Integer\n",
       "0 <= u_3 <= 5 Integer\n",
       "0 <= u_4 <= 5 Integer\n",
       "0 <= x_0_1 <= 1 Integer\n",
       "0 <= x_0_2 <= 1 Integer\n",
       "0 <= x_0_3 <= 1 Integer\n",
       "0 <= x_0_4 <= 1 Integer\n",
       "0 <= x_1_0 <= 1 Integer\n",
       "0 <= x_1_2 <= 1 Integer\n",
       "0 <= x_1_3 <= 1 Integer\n",
       "0 <= x_1_4 <= 1 Integer\n",
       "0 <= x_2_0 <= 1 Integer\n",
       "0 <= x_2_1 <= 1 Integer\n",
       "0 <= x_2_3 <= 1 Integer\n",
       "0 <= x_2_4 <= 1 Integer\n",
       "0 <= x_3_0 <= 1 Integer\n",
       "0 <= x_3_1 <= 1 Integer\n",
       "0 <= x_3_2 <= 1 Integer\n",
       "0 <= x_3_4 <= 1 Integer\n",
       "0 <= x_4_0 <= 1 Integer\n",
       "0 <= x_4_1 <= 1 Integer\n",
       "0 <= x_4_2 <= 1 Integer\n",
       "0 <= x_4_3 <= 1 Integer"
      ]
     },
     "execution_count": 19,
     "metadata": {},
     "output_type": "execute_result"
    }
   ],
   "source": [
    "# Check the encoding\n",
    "\n",
    "problem"
   ]
  },
  {
   "cell_type": "code",
   "execution_count": 20,
   "id": "a86f02d8",
   "metadata": {},
   "outputs": [
    {
     "name": "stdout",
     "output_type": "stream",
     "text": [
      "Welcome to the CBC MILP Solver \n",
      "Version: 2.10.3 \n",
      "Build Date: Dec 15 2019 \n",
      "\n",
      "command line - /Users/hanisibr/opt/anaconda3/lib/python3.9/site-packages/pulp/solverdir/cbc/osx/64/cbc /var/folders/5t/7h86v1rd1sg2cp_m3c7mtv8r0000gn/T/07fbd3034d6141de9f654d090792c893-pulp.mps timeMode elapsed branch printingOptions all solution /var/folders/5t/7h86v1rd1sg2cp_m3c7mtv8r0000gn/T/07fbd3034d6141de9f654d090792c893-pulp.sol (default strategy 1)\n",
      "At line 2 NAME          MODEL\n",
      "At line 3 ROWS\n",
      "At line 27 COLUMNS\n",
      "At line 172 RHS\n",
      "At line 195 BOUNDS\n",
      "At line 220 ENDATA\n",
      "Problem MODEL has 22 rows, 24 columns and 76 elements\n",
      "Coin0008I MODEL read with 0 errors\n",
      "Option for timeMode changed from cpu to elapsed\n",
      "Continuous objective value is 789.8 - 0.00 seconds\n",
      "Cgl0004I processed model has 22 rows, 24 columns (24 integer (20 of which binary)) and 76 elements\n",
      "Cutoff increment increased from 1e-05 to 0.9999\n",
      "Cbc0038I Initial state - 6 integers unsatisfied sum - 2.4\n",
      "Cbc0038I Pass   1: suminf.    1.60000 (8) obj. 919.4 iterations 7\n",
      "Cbc0038I Pass   2: suminf.    0.00000 (0) obj. 1521 iterations 8\n",
      "Cbc0038I Solution found of 1521\n",
      "Cbc0038I Cleaned solution of 1521\n",
      "Cbc0038I Before mini branch and bound, 8 integers at bound fixed and 0 continuous\n",
      "Cbc0038I Full problem 22 rows 24 columns, reduced to 16 rows 10 columns\n",
      "Cbc0038I Mini branch and bound improved solution from 1521 to 1061 (0.07 seconds)\n",
      "Cbc0038I Round again with cutoff of 1032.98\n",
      "Cbc0038I Reduced cost fixing fixed 2 variables on major pass 2\n",
      "Cbc0038I Pass   3: suminf.    1.60000 (8) obj. 919.4 iterations 0\n",
      "Cbc0038I Pass   4: suminf.    3.05311 (9) obj. 1032.98 iterations 3\n",
      "Cbc0038I Pass   5: suminf.    2.63720 (6) obj. 1032.98 iterations 5\n",
      "Cbc0038I Pass   6: suminf.    2.63720 (6) obj. 1032.98 iterations 2\n",
      "Cbc0038I Pass   7: suminf.    2.63720 (6) obj. 1032.98 iterations 0\n",
      "Cbc0038I Pass   8: suminf.    2.63720 (6) obj. 1032.98 iterations 0\n",
      "Cbc0038I Pass   9: suminf.    1.48841 (7) obj. 1032.98 iterations 4\n",
      "Cbc0038I Pass  10: suminf.    0.00000 (0) obj. 1000 iterations 2\n",
      "Cbc0038I Solution found of 1000\n",
      "Cbc0038I Cleaned solution of 1000\n",
      "Cbc0038I Before mini branch and bound, 7 integers at bound fixed and 0 continuous\n",
      "Cbc0038I Full problem 22 rows 24 columns, reduced to 4 rows 3 columns\n",
      "Cbc0038I Mini branch and bound did not improve solution (0.07 seconds)\n",
      "Cbc0038I Round again with cutoff of 957.16\n",
      "Cbc0038I Reduced cost fixing fixed 8 variables on major pass 3\n",
      "Cbc0038I Pass  11: suminf.    2.40000 (6) obj. 789.8 iterations 5\n",
      "Cbc0038I Pass  12: suminf.    1.20000 (6) obj. 821 iterations 5\n",
      "Cbc0038I Pass  13: suminf.    1.20000 (6) obj. 821 iterations 5\n",
      "Cbc0038I Pass  14: suminf.    1.20000 (6) obj. 821 iterations 0\n",
      "Cbc0038I Pass  15: suminf.    2.30000 (7) obj. 805.4 iterations 1\n",
      "Cbc0038I Pass  16: suminf.    1.20000 (6) obj. 821 iterations 2\n",
      "Cbc0038I Pass  17: suminf.    2.30000 (7) obj. 805.4 iterations 2\n",
      "Cbc0038I Pass  18: suminf.    1.20000 (6) obj. 821 iterations 3\n",
      "Cbc0038I Pass  19: suminf.    1.20000 (6) obj. 821 iterations 0\n",
      "Cbc0038I Pass  20: suminf.    2.40000 (6) obj. 789.8 iterations 4\n",
      "Cbc0038I Pass  21: suminf.    2.40000 (6) obj. 789.8 iterations 0\n",
      "Cbc0038I Pass  22: suminf.    2.40000 (6) obj. 789.8 iterations 0\n",
      "Cbc0038I Pass  23: suminf.    1.20000 (6) obj. 821 iterations 5\n",
      "Cbc0038I Pass  24: suminf.    1.20000 (6) obj. 821 iterations 0\n",
      "Cbc0038I Pass  25: suminf.    1.20000 (6) obj. 821 iterations 4\n",
      "Cbc0038I Pass  26: suminf.    1.20000 (6) obj. 821 iterations 0\n",
      "Cbc0038I Pass  27: suminf.    1.20000 (6) obj. 821 iterations 0\n",
      "Cbc0038I Pass  28: suminf.    1.20000 (6) obj. 821 iterations 0\n",
      "Cbc0038I Pass  29: suminf.    2.30000 (7) obj. 805.4 iterations 2\n",
      "Cbc0038I Pass  30: suminf.    2.30000 (7) obj. 805.4 iterations 0\n",
      "Cbc0038I Pass  31: suminf.    2.40000 (6) obj. 789.8 iterations 2\n",
      "Cbc0038I Pass  32: suminf.    2.40000 (6) obj. 789.8 iterations 0\n",
      "Cbc0038I Pass  33: suminf.    2.40000 (6) obj. 789.8 iterations 0\n",
      "Cbc0038I Pass  34: suminf.    2.40000 (6) obj. 789.8 iterations 0\n",
      "Cbc0038I Pass  35: suminf.    1.20000 (6) obj. 821 iterations 5\n",
      "Cbc0038I Pass  36: suminf.    1.20000 (6) obj. 821 iterations 0\n",
      "Cbc0038I Pass  37: suminf.    1.20000 (6) obj. 821 iterations 0\n",
      "Cbc0038I Pass  38: suminf.    2.30000 (7) obj. 805.4 iterations 2\n",
      "Cbc0038I Pass  39: suminf.    1.20000 (6) obj. 821 iterations 2\n",
      "Cbc0038I Pass  40: suminf.    1.20000 (6) obj. 821 iterations 4\n",
      "Cbc0038I No solution found this major pass\n",
      "Cbc0038I Before mini branch and bound, 9 integers at bound fixed and 0 continuous\n",
      "Cbc0038I Full problem 22 rows 24 columns, reduced to 8 rows 6 columns\n",
      "Cbc0038I Mini branch and bound did not improve solution (0.08 seconds)\n",
      "Cbc0038I After 0.08 seconds - Feasibility pump exiting with objective of 1000 - took 0.02 seconds\n",
      "Cbc0012I Integer solution of 1000 found by feasibility pump after 0 iterations and 0 nodes (0.08 seconds)\n",
      "Cbc0006I The LP relaxation is infeasible or too expensive\n",
      "Cbc0031I 3 added rows had average density of 2\n",
      "Cbc0013I At root node, 3 cuts changed objective from 789.8 to 821 in 2 passes\n",
      "Cbc0014I Cut generator 0 (Probing) - 14 row cuts average 2.2 elements, 5 column cuts (5 active)  in 0.000 seconds - new frequency is 1\n",
      "Cbc0014I Cut generator 1 (Gomory) - 1 row cuts average 2.0 elements, 0 column cuts (0 active)  in 0.000 seconds - new frequency is 1\n",
      "Cbc0014I Cut generator 2 (Knapsack) - 0 row cuts average 0.0 elements, 0 column cuts (0 active)  in 0.000 seconds - new frequency is -100\n",
      "Cbc0014I Cut generator 3 (Clique) - 0 row cuts average 0.0 elements, 0 column cuts (0 active)  in 0.000 seconds - new frequency is -100\n",
      "Cbc0014I Cut generator 4 (MixedIntegerRounding2) - 0 row cuts average 0.0 elements, 0 column cuts (0 active)  in 0.000 seconds - new frequency is -100\n",
      "Cbc0014I Cut generator 5 (FlowCover) - 0 row cuts average 0.0 elements, 0 column cuts (0 active)  in 0.000 seconds - new frequency is -100\n",
      "Cbc0014I Cut generator 6 (TwoMirCuts) - 10 row cuts average 2.5 elements, 0 column cuts (0 active)  in 0.000 seconds - new frequency is 1\n",
      "Cbc0014I Cut generator 7 (ZeroHalf) - 3 row cuts average 4.7 elements, 0 column cuts (0 active)  in 0.000 seconds - new frequency is 1\n",
      "Cbc0001I Search completed - best objective 1000, took 5 iterations and 0 nodes (0.09 seconds)\n",
      "Cbc0035I Maximum depth 0, 6 variables fixed on reduced cost\n",
      "Cuts at root node changed objective from 789.8 to 821\n",
      "Probing was tried 2 times and created 19 cuts of which 0 were active after adding rounds of cuts (0.000 seconds)\n",
      "Gomory was tried 1 times and created 1 cuts of which 0 were active after adding rounds of cuts (0.000 seconds)\n",
      "Knapsack was tried 1 times and created 0 cuts of which 0 were active after adding rounds of cuts (0.000 seconds)\n",
      "Clique was tried 1 times and created 0 cuts of which 0 were active after adding rounds of cuts (0.000 seconds)\n",
      "MixedIntegerRounding2 was tried 1 times and created 0 cuts of which 0 were active after adding rounds of cuts (0.000 seconds)\n",
      "FlowCover was tried 1 times and created 0 cuts of which 0 were active after adding rounds of cuts (0.000 seconds)\n",
      "TwoMirCuts was tried 1 times and created 10 cuts of which 0 were active after adding rounds of cuts (0.000 seconds)\n",
      "ZeroHalf was tried 1 times and created 3 cuts of which 0 were active after adding rounds of cuts (0.000 seconds)\n",
      "\n",
      "Result - Optimal solution found\n",
      "\n",
      "Objective value:                1000.00000000\n",
      "Enumerated nodes:               0\n",
      "Total iterations:               5\n",
      "Time (CPU seconds):             0.03\n",
      "Time (Wallclock seconds):       0.09\n",
      "\n",
      "Option for printingOptions changed from normal to all\n",
      "Total time (CPU seconds):       0.03   (Wallclock seconds):       0.12\n",
      "\n"
     ]
    },
    {
     "data": {
      "text/plain": [
       "1"
      ]
     },
     "execution_count": 20,
     "metadata": {},
     "output_type": "execute_result"
    }
   ],
   "source": [
    "# Solve Problem and Display Solution\n",
    "\n",
    "problem.solve()"
   ]
  },
  {
   "cell_type": "code",
   "execution_count": 21,
   "id": "a913d3d2",
   "metadata": {},
   "outputs": [],
   "source": [
    "# Plot the optimal route\n",
    "\n",
    "def isElem(x, l):\n",
    "    for i in range(0, len(l)):\n",
    "        if l[i]==x:\n",
    "            return True\n",
    "    return False\n",
    "\n"
   ]
  },
  {
   "cell_type": "code",
   "execution_count": 22,
   "id": "e71b3a13",
   "metadata": {},
   "outputs": [],
   "source": [
    "def startpoint(trips):\n",
    "    for i in range(0,n):\n",
    "        for t in trips:\n",
    "            if isElem(i, t):\n",
    "                break\n",
    "        else:\n",
    "            return i"
   ]
  },
  {
   "cell_type": "code",
   "execution_count": 23,
   "id": "89235065",
   "metadata": {},
   "outputs": [],
   "source": [
    "def totallength(trips):\n",
    "    s=0\n",
    "    for i in range(0, len(trips)):\n",
    "        s += len(trips[i])-1\n",
    "    return s"
   ]
  },
  {
   "cell_type": "code",
   "execution_count": 24,
   "id": "aad0ff13",
   "metadata": {},
   "outputs": [
    {
     "data": {
      "text/plain": [
       "[[0, 1, 2, 3, 4, 0]]"
      ]
     },
     "execution_count": 24,
     "metadata": {},
     "output_type": "execute_result"
    }
   ],
   "source": [
    "trips = []\n",
    "while totallength(trips)<n:\n",
    "    start = startpoint(trips)\n",
    "    trip = [ start ]\n",
    "    i = start\n",
    "    while len(trip) < n-totallength(trips):\n",
    "        for j in range(0, n):\n",
    "            if pulp.value(x[i][j])==1:\n",
    "                trip.append(j)\n",
    "                i=j\n",
    "                break        \n",
    "        if pulp.value(x[trip[-1]][start])==1:\n",
    "            trip.append(start)\n",
    "            break\n",
    "    trips.append(trip)\n",
    "trips"
   ]
  },
  {
   "cell_type": "code",
   "execution_count": 25,
   "id": "91cc2707",
   "metadata": {},
   "outputs": [
    {
     "data": {
      "text/plain": [
       "1000.0"
      ]
     },
     "execution_count": 25,
     "metadata": {},
     "output_type": "execute_result"
    }
   ],
   "source": [
    "obj_func = pulp.value(problem.objective)\n",
    "obj_func"
   ]
  },
  {
   "cell_type": "code",
   "execution_count": 26,
   "id": "798ff37f",
   "metadata": {},
   "outputs": [],
   "source": [
    "def showTrip(t, style, lw=1, ms=5):\n",
    "    plt.xlim(0,1)\n",
    "    plt.ylim(0,1)\n",
    "    plt.axis('off')\n",
    "    \n",
    "    for k in range(0,len(t)-1):\n",
    "        plt.plot([ x_of(t[k]), x_of(t[k+1])], \n",
    "                    [ y_of(t[k]), y_of(t[k+1])], style, lw=lw, ms=ms)   "
   ]
  },
  {
   "cell_type": "code",
   "execution_count": 27,
   "id": "4c3b287f",
   "metadata": {},
   "outputs": [],
   "source": [
    "def totalLength(trip):\n",
    "    sum=0\n",
    "    for i in range(0, len(trip)-1):\n",
    "        sum+=dist(trip[i], trip[i+1])\n",
    "    return sum"
   ]
  },
  {
   "cell_type": "markdown",
   "id": "1fa1d9aa",
   "metadata": {},
   "source": [
    "# Step 4"
   ]
  },
  {
   "cell_type": "code",
   "execution_count": 28,
   "id": "9bf49f54",
   "metadata": {},
   "outputs": [],
   "source": [
    "def nearest(p, x):\n",
    "    idx=0\n",
    "    mindist=dist(p[0], x)\n",
    "    for i in range(1, len(p)):\n",
    "        d=dist(p[i], x)\n",
    "        if d<mindist:\n",
    "            mindist=d\n",
    "            idx=i\n",
    "    return p[idx]"
   ]
  },
  {
   "cell_type": "code",
   "execution_count": 29,
   "id": "b116a547",
   "metadata": {},
   "outputs": [],
   "source": [
    "def greedy2(p):\n",
    "    p = p.copy()\n",
    "    x = p[0]\n",
    "    path = [x]\n",
    "    p.remove(x)\n",
    "    while len(p)>0:\n",
    "        x = path[-1]\n",
    "        xx = nearest(p, x)\n",
    "        y = path[0]\n",
    "        yy = nearest(p, y)\n",
    "        if dist(x, xx)<=dist(y, yy):\n",
    "            path = path + [xx]\n",
    "            p.remove(xx)\n",
    "        else:\n",
    "            path = [yy] + path\n",
    "            p.remove(yy)\n",
    "    path.append(path[0])\n",
    "    return path"
   ]
  },
  {
   "cell_type": "code",
   "execution_count": 30,
   "id": "bb35a11d",
   "metadata": {},
   "outputs": [
    {
     "data": {
      "text/plain": [
       "1061"
      ]
     },
     "execution_count": 30,
     "metadata": {},
     "output_type": "execute_result"
    }
   ],
   "source": [
    "g=greedy2(P)\n",
    "totalLength(g)"
   ]
  },
  {
   "cell_type": "code",
   "execution_count": 31,
   "id": "b5a378fe",
   "metadata": {},
   "outputs": [],
   "source": [
    "def compareTrips(t1, t2):\n",
    "\n",
    "    print(f\"Length of roundtrip 1 (red):   {totalLength(t1):d}\")\n",
    "    print(f\"Length of roundtrip 2 (green): {totalLength(t2):d}\")\n",
    "    \n",
    "    plt.figure(1)\n",
    "    showTrip(t1, 'r-o',lw=3, ms=10)\n",
    "    showTrip(t2, 'g:o',lw=2)\n",
    "\n",
    "    plt.figure(2)\n",
    "    showTrip(t2, 'g-o')  "
   ]
  },
  {
   "cell_type": "code",
   "execution_count": 32,
   "id": "3a65feda",
   "metadata": {},
   "outputs": [
    {
     "data": {
      "image/png": "[encoded data removed]",
      "text/plain": [
       "<Figure size 640x480 with 1 Axes>"
      ]
     },
     "metadata": {},
     "output_type": "display_data"
    }
   ],
   "source": [
    "showTrip(g, 'r-o')"
   ]
  },
  {
   "cell_type": "code",
   "execution_count": 33,
   "id": "341b21ce",
   "metadata": {},
   "outputs": [],
   "source": [
    "def shortcut2(roundtrip):\n",
    "    # again we make a copy because of in-place changes\n",
    "    t=roundtrip.copy()\n",
    "    for i in range(0, len(t)-1):\n",
    "        for k in range(2, len(t)-i-1):\n",
    "            a = dist(t[i], t[i+1])\n",
    "            b = dist(t[i+k], t[i+k+1])\n",
    "            c = dist(t[i], t[i+k])\n",
    "            d = dist(t[i+1], t[i+k+1])\n",
    "            if c+d < a+b:\n",
    "            #if dist(t[i], t[i+k])+dist(t[i+1], t[i+k+1]) < \\\n",
    "            #        dist(t[i], t[i+1])+dist(t[i+k], t[i+k+1]):\n",
    "                sub=t[i+1:i+k+1]\n",
    "                sub.reverse()\n",
    "                t=t[0:i+1]+sub+t[i+k+1:]\n",
    "                return t\n",
    "    return None"
   ]
  },
  {
   "cell_type": "code",
   "execution_count": 34,
   "id": "0e1bfb4b",
   "metadata": {},
   "outputs": [
    {
     "name": "stdout",
     "output_type": "stream",
     "text": [
      "1061 reduced to 1000\n",
      "Length of roundtrip 1 (red):   1061\n",
      "Length of roundtrip 2 (green): 1000\n",
      "CPU times: user 97.9 ms, sys: 5.05 ms, total: 103 ms\n",
      "Wall time: 249 ms\n"
     ]
    },
    {
     "data": {
      "image/png": "[encoded data removed]",
      "text/plain": [
       "<Figure size 640x480 with 1 Axes>"
      ]
     },
     "metadata": {},
     "output_type": "display_data"
    },
    {
     "data": {
      "image/png": "[encoded data removed]",
      "text/plain": [
       "<Figure size 640x480 with 1 Axes>"
      ]
     },
     "metadata": {},
     "output_type": "display_data"
    }
   ],
   "source": [
    "%%time\n",
    "g1 = g\n",
    "g2 = shortcut2(g1)\n",
    "while g2 is not None:\n",
    "    print(totalLength(g),\"reduced to\", totalLength(g2))\n",
    "    g1 = g2\n",
    "    g2 = shortcut2(g1)\n",
    "improvement = totalLength(g)-totalLength(g1)\n",
    "compareTrips(g, g1)"
   ]
  },
  {
   "cell_type": "markdown",
   "id": "bc84e75d",
   "metadata": {},
   "source": [
    "## References:\n",
    "## C. Horn (2023). Modelling, Simulation and Optimization: Greedy and Heuristics\n",
    "## Kaggle (2020) TSP PuLP Optimization / PyTorch Deep Learning. Available at:[https://www.kaggle.com/code/itoeiji/tsp-pulp-optimization-pytorch-deep-learning]"
   ]
  },
  {
   "cell_type": "code",
   "execution_count": null,
   "id": "c64ab9e7",
   "metadata": {},
   "outputs": [],
   "source": []
  }
 ],
 "metadata": {
  "kernelspec": {
   "display_name": "Python 3 (ipykernel)",
   "language": "python",
   "name": "python3"
  },
  "language_info": {
   "codemirror_mode": {
    "name": "ipython",
    "version": 3
   },
   "file_extension": ".py",
   "mimetype": "text/x-python",
   "name": "python",
   "nbconvert_exporter": "python",
   "pygments_lexer": "ipython3",
   "version": "3.9.13"
  }
 },
 "nbformat": 4,
 "nbformat_minor": 5
}
